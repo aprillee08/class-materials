{
 "metadata": {
  "language_info": {
   "codemirror_mode": {
    "name": "ipython",
    "version": 3
   },
   "file_extension": ".py",
   "mimetype": "text/x-python",
   "name": "python",
   "nbconvert_exporter": "python",
   "pygments_lexer": "ipython3",
   "version": "3.9.0-final"
  },
  "orig_nbformat": 2,
  "kernelspec": {
   "name": "devtools",
   "display_name": "Development Tools",
   "language": "python"
  }
 },
 "nbformat": 4,
 "nbformat_minor": 2,
 "cells": [
  {
   "source": [
    "# Playground at Class"
   ],
   "cell_type": "markdown",
   "metadata": {}
  },
  {
   "source": [
    "## Common Syntax "
   ],
   "cell_type": "markdown",
   "metadata": {}
  },
  {
   "source": [
    "Variables and Naming Conventions"
   ],
   "cell_type": "markdown",
   "metadata": {}
  },
  {
   "source": [
    "Aritmetic operators\n",
    "\n",
    "``` txt\n",
    "+\tAddition\n",
    "-\tSubtraction\n",
    "/\tdivision\n",
    "%\tmod\n",
    "*\tmultiplication\n",
    "//\tfloor division\n",
    "**\tto the power of\n",
    "```"
   ],
   "cell_type": "markdown",
   "metadata": {}
  },
  {
   "source": [
    "Relational Operators\n",
    "\n",
    "``` txt \n",
    "==\tTrue, if it is equal\n",
    "!=\tTrue, if not equal to\n",
    "<\tless than\n",
    ">\tgreater than\n",
    "<=\tless than or equal to\n",
    ">=\tgreater than or equal to\n",
    "```"
   ],
   "cell_type": "markdown",
   "metadata": {}
  },
  {
   "source": [
    "Bitwise Operators\n",
    "``` txt\n",
    "&\tLogical And\n",
    "l\tLogical OR\n",
    "^\tXOR\n",
    "~\tNegate\n",
    ">>\tRight shift\n",
    "<<\tLeft shift\n",
    "```"
   ],
   "cell_type": "markdown",
   "metadata": {}
  },
  {
   "source": [
    "Buitin functions"
   ],
   "cell_type": "markdown",
   "metadata": {}
  },
  {
   "source": [
    "Getting user inputs"
   ],
   "cell_type": "markdown",
   "metadata": {}
  },
  {
   "source": [
    "Using other modules "
   ],
   "cell_type": "markdown",
   "metadata": {}
  },
  {
   "cell_type": "code",
   "execution_count": null,
   "metadata": {},
   "outputs": [],
   "source": [
    "import this"
   ]
  },
  {
   "source": [
    "## Introduction to Data Model"
   ],
   "cell_type": "markdown",
   "metadata": {}
  },
  {
   "source": [
    "### Object"
   ],
   "cell_type": "markdown",
   "metadata": {}
  },
  {
   "source": [
    "### Standard type hierarchy\n",
    "\n",
    "Try examples, object methods such as `str.split`, formattings, etc."
   ],
   "cell_type": "markdown",
   "metadata": {}
  }
 ]
}