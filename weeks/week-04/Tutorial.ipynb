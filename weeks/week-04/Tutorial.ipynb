{
 "cells": [
  {
   "cell_type": "markdown",
   "metadata": {},
   "source": [
    "## Week 4 Notes"
   ]
  },
  {
   "cell_type": "markdown",
   "metadata": {},
   "source": [
    "### User Functions\n",
    "\n",
    "You create it to not repeat yourself."
   ]
  },
  {
   "cell_type": "code",
   "execution_count": 1,
   "metadata": {},
   "outputs": [],
   "source": [
    "def greeting():\n",
    "    return 'Hello, You!'"
   ]
  },
  {
   "cell_type": "code",
   "execution_count": 2,
   "metadata": {},
   "outputs": [
    {
     "data": {
      "text/plain": [
       "'Hello, You!'"
      ]
     },
     "execution_count": 2,
     "metadata": {},
     "output_type": "execute_result"
    }
   ],
   "source": [
    "greeting()"
   ]
  },
  {
   "cell_type": "code",
   "execution_count": 3,
   "metadata": {},
   "outputs": [],
   "source": [
    "def greeting_with(name):\n",
    "    return 'Hello,' + ' ' + name + '!'"
   ]
  },
  {
   "cell_type": "code",
   "execution_count": 4,
   "metadata": {},
   "outputs": [
    {
     "data": {
      "text/plain": [
       "'Hello, Metin!'"
      ]
     },
     "execution_count": 4,
     "metadata": {},
     "output_type": "execute_result"
    }
   ],
   "source": [
    "greeting_with('Metin')"
   ]
  },
  {
   "cell_type": "code",
   "execution_count": 5,
   "metadata": {},
   "outputs": [],
   "source": [
    "def greet_to_class(name):\n",
    "    # variables defined in function are only available in function.\n",
    "    cls_name = 'DS-542'\n",
    "    greeting_message = 'Welcome to '\n",
    "    \n",
    "    return greeting_with(name) + ' ' + greeting_message + cls_name + '!'"
   ]
  },
  {
   "cell_type": "code",
   "execution_count": 6,
   "metadata": {},
   "outputs": [
    {
     "data": {
      "text/plain": [
       "'Hello, Metin! Welcome to DS-542!'"
      ]
     },
     "execution_count": 6,
     "metadata": {},
     "output_type": "execute_result"
    }
   ],
   "source": [
    "greet_to_class('Metin')"
   ]
  },
  {
   "cell_type": "code",
   "execution_count": 7,
   "metadata": {},
   "outputs": [],
   "source": [
    "# uncommenting below will raise NameError bc cls_name defined in function's scope\n",
    "# cls_name"
   ]
  },
  {
   "cell_type": "code",
   "execution_count": 8,
   "metadata": {},
   "outputs": [],
   "source": [
    "\n",
    "# round() # shift + tab will bring more information on this function\n",
    "\n",
    "# uncommenting below will also bring more information on function\n",
    "# round?"
   ]
  },
  {
   "cell_type": "code",
   "execution_count": 9,
   "metadata": {},
   "outputs": [
    {
     "data": {
      "text/plain": [
       "20.54"
      ]
     },
     "execution_count": 9,
     "metadata": {},
     "output_type": "execute_result"
    }
   ],
   "source": [
    "round(20.542, 2)\n",
    "# Docstring:\n",
    "# Round a number to a given precision in decimal digits."
   ]
  },
  {
   "cell_type": "code",
   "execution_count": 10,
   "metadata": {},
   "outputs": [
    {
     "data": {
      "text/plain": [
       "'Hello, Murat! Welcome to DS-542!'"
      ]
     },
     "execution_count": 10,
     "metadata": {},
     "output_type": "execute_result"
    }
   ],
   "source": [
    "greet_to_class('Murat')\n",
    "# Docstring: <no docstring>  -- do shift tab in paranthesis"
   ]
  },
  {
   "cell_type": "code",
   "execution_count": 11,
   "metadata": {},
   "outputs": [],
   "source": [
    "def greet_to_class(name):\n",
    "    \"\"\"\n",
    "    Greet the given person to DS-542 class.\n",
    "    \"\"\"\n",
    "    # variables defined in function are only available in function.\n",
    "    cls_name = 'DS-542'\n",
    "    greeting_message = 'Welcome to '\n",
    "    \n",
    "    return greeting_with(name) + ' ' + greeting_message + cls_name + '!'"
   ]
  },
  {
   "cell_type": "code",
   "execution_count": 12,
   "metadata": {},
   "outputs": [
    {
     "data": {
      "text/plain": [
       "'Hello, Metin! Welcome to DS-542!'"
      ]
     },
     "execution_count": 12,
     "metadata": {},
     "output_type": "execute_result"
    }
   ],
   "source": [
    "greet_to_class('Metin')"
   ]
  },
  {
   "cell_type": "code",
   "execution_count": 13,
   "metadata": {},
   "outputs": [
    {
     "data": {
      "text/plain": [
       "(4432671792, function, 'Hello, Metin! Welcome to DS-542!')"
      ]
     },
     "execution_count": 13,
     "metadata": {},
     "output_type": "execute_result"
    }
   ],
   "source": [
    "# remember that python objects have 3 properties, id, value, and type\n",
    "# this means that functions are also objects\n",
    "id(greet_to_class), type(greet_to_class), greet_to_class('Metin' )"
   ]
  },
  {
   "cell_type": "code",
   "execution_count": 14,
   "metadata": {},
   "outputs": [
    {
     "data": {
      "text/plain": [
       "<function str.replace(old, new, count=-1, /)>"
      ]
     },
     "execution_count": 14,
     "metadata": {},
     "output_type": "execute_result"
    }
   ],
   "source": [
    "'Metin'.replace"
   ]
  },
  {
   "cell_type": "code",
   "execution_count": 15,
   "metadata": {},
   "outputs": [
    {
     "data": {
      "text/plain": [
       "'Hello, Metin    ! Welcome to DS-542!'"
      ]
     },
     "execution_count": 15,
     "metadata": {},
     "output_type": "execute_result"
    }
   ],
   "source": [
    "# dirty data causes my greeting message to look bad. What to do?\n",
    "greet_to_class('Metin    ')"
   ]
  },
  {
   "cell_type": "code",
   "execution_count": 16,
   "metadata": {},
   "outputs": [],
   "source": [
    "def greet_to_class(name):\n",
    "    \"\"\"\n",
    "    Greet the given person to DS-542 class. \n",
    "    \n",
    "    This function gets a string as input, and returns a string\n",
    "    as output.\n",
    "    \"\"\"\n",
    "    # variables defined in function are only available in function.\n",
    "    cls_name = 'DS-542'\n",
    "    greeting_message = 'Welcome to '\n",
    "    \n",
    "    \n",
    "    # defining a function within `greet_to_class` function.\n",
    "    # assuming the `name` variable has bad characters, this function will \n",
    "    # replace those.\n",
    "    def cleanup_name(name_string):\n",
    "        '''\n",
    "        Function to clean any given name, if it contains any \n",
    "        of the following characters: ' ', '\\n', '$'.\n",
    "        \n",
    "        This functions gets a string as input, and returns a\n",
    "        string as output..\n",
    "        '''\n",
    "        return name_string.replace(' ', '').replace('\\n', '').replace('$', '')\n",
    "    \n",
    "    # using the defined function above to clean my name variable\n",
    "    name = cleanup_name(name)\n",
    "    \n",
    "    return greeting_with(name) + ' ' + greeting_message + cls_name + '!'"
   ]
  },
  {
   "cell_type": "code",
   "execution_count": 17,
   "metadata": {},
   "outputs": [
    {
     "data": {
      "text/plain": [
       "'Hello, Metin! Welcome to DS-542!'"
      ]
     },
     "execution_count": 17,
     "metadata": {},
     "output_type": "execute_result"
    }
   ],
   "source": [
    "greet_to_class('Metin    ')"
   ]
  },
  {
   "cell_type": "code",
   "execution_count": 18,
   "metadata": {},
   "outputs": [
    {
     "data": {
      "text/plain": [
       "'\\nstr.capitalize()\\nstr.casefold()\\nstr.center(width[, fillchar])\\n'"
      ]
     },
     "execution_count": 18,
     "metadata": {},
     "output_type": "execute_result"
    }
   ],
   "source": [
    "# multiline example with new line chars \n",
    "# not related with functions\n",
    "my_long_string = \"\"\"\n",
    "str.capitalize()\n",
    "str.casefold()\n",
    "str.center(width[, fillchar])\n",
    "\"\"\" # multiline strings will have new line characters (\\n)\n",
    "my_long_string"
   ]
  },
  {
   "cell_type": "code",
   "execution_count": 19,
   "metadata": {},
   "outputs": [],
   "source": [
    "# above when cleanup_name defined, it defined in `greet_to_class` function's scope.\n",
    "# above one (cleanup_name) is not accesible in this notebook, except in `greet_to_class` function.\n",
    "# this one down, now accesible in all notebook, bc it is defined in here.\n",
    "def cleanup_name2(name_string):\n",
    "    '''\n",
    "    Copy of cleanup_name function.\n",
    "    \n",
    "    Function to clean any given name, if it contains any \n",
    "    of the following characters: ' ', '\\n', '$'.\n",
    "\n",
    "    This functions gets a string as input, and returns a\n",
    "    string as output..\n",
    "    '''\n",
    "    return name_string.replace(' ', '').replace('\\n', '').replace('$', '')"
   ]
  },
  {
   "cell_type": "code",
   "execution_count": 20,
   "metadata": {},
   "outputs": [],
   "source": [
    "def greet_to_class_without_inner_function(name):\n",
    "    \"\"\"\n",
    "    Greet the given person to DS-542 class. \n",
    "    \n",
    "    This function gets a string as input, and returns a string\n",
    "    as output.\n",
    "    \"\"\"\n",
    "    # variables defined in function are only available in function.\n",
    "    cls_name = 'DS-542'\n",
    "    greeting_message = 'Welcome to '\n",
    "    \n",
    "    # using the defined function above to clean my name variable\n",
    "    name = cleanup_name2(name)\n",
    "    \n",
    "    return greeting_with(name) + ' ' + greeting_message + cls_name + '!'"
   ]
  },
  {
   "cell_type": "code",
   "execution_count": 21,
   "metadata": {},
   "outputs": [
    {
     "data": {
      "text/plain": [
       "'Hello, Metin! Welcome to DS-542!'"
      ]
     },
     "execution_count": 21,
     "metadata": {},
     "output_type": "execute_result"
    }
   ],
   "source": [
    "greet_to_class_without_inner_function('Metin    ')"
   ]
  },
  {
   "cell_type": "markdown",
   "metadata": {},
   "source": [
    "### Scopes and Namespaces Example"
   ]
  },
  {
   "cell_type": "code",
   "execution_count": 22,
   "metadata": {},
   "outputs": [
    {
     "ename": "NameError",
     "evalue": "name 'spam' is not defined",
     "output_type": "error",
     "traceback": [
      "\u001b[0;31m---------------------------------------------------------------------------\u001b[0m",
      "\u001b[0;31mNameError\u001b[0m                                 Traceback (most recent call last)",
      "\u001b[0;32m<ipython-input-22-e1a6a430b93b>\u001b[0m in \u001b[0;36m<module>\u001b[0;34m\u001b[0m\n\u001b[1;32m      1\u001b[0m \u001b[0;31m# there will be no spam variable defined so far\u001b[0m\u001b[0;34m\u001b[0m\u001b[0;34m\u001b[0m\u001b[0;34m\u001b[0m\u001b[0m\n\u001b[1;32m      2\u001b[0m \u001b[0;31m# therefore this will throw NameError\u001b[0m\u001b[0;34m\u001b[0m\u001b[0;34m\u001b[0m\u001b[0;34m\u001b[0m\u001b[0m\n\u001b[0;32m----> 3\u001b[0;31m \u001b[0mspam\u001b[0m\u001b[0;34m\u001b[0m\u001b[0;34m\u001b[0m\u001b[0m\n\u001b[0m",
      "\u001b[0;31mNameError\u001b[0m: name 'spam' is not defined"
     ]
    }
   ],
   "source": [
    "# there will be no spam variable defined so far\n",
    "# therefore this will throw NameError\n",
    "spam"
   ]
  },
  {
   "cell_type": "code",
   "execution_count": 23,
   "metadata": {},
   "outputs": [
    {
     "name": "stdout",
     "output_type": "stream",
     "text": [
      "1. After local assignment   : test spam\n",
      "2. After nonlocal assignment: nonlocal spam\n",
      "3. After global assignment  : nonlocal spam\n",
      "4. In global scope          : global spam\n"
     ]
    }
   ],
   "source": [
    "# example from \n",
    "# https://github.com/spu-python-203/class-materials/tree/main/weeks/week-04#scopes-and-namespaces-example\n",
    "def scope_test():\n",
    "    \n",
    "    ###\n",
    "    ### First defines 3 functions\n",
    "    ###\n",
    "    def do_local():\n",
    "        spam = \"local spam\"\n",
    "\n",
    "    def do_nonlocal():\n",
    "        nonlocal spam   # will change any other spam variable defined before to this new value\n",
    "        spam = \"nonlocal spam\"\n",
    "\n",
    "    def do_global():\n",
    "        global spam # will make this variable available even outside of of `scope_test` function.\n",
    "        spam = \"global spam\"\n",
    "    \n",
    "    ###\n",
    "    ### Herem uses above 3 functions\n",
    "    ###\n",
    "    spam = \"test spam\"\n",
    "    \n",
    "    do_local()\n",
    "    print(\"1. After local assignment   :\", spam) # the change made in do_local did not effect my `spam` variable\n",
    "    do_nonlocal()\n",
    "    print(\"2. After nonlocal assignment:\", spam)\n",
    "    do_global()\n",
    "    print(\"3. After global assignment  :\", spam)\n",
    "\n",
    "    \n",
    "## using the function defined above in here\n",
    "scope_test()\n",
    "print(\"4. In global scope          :\", spam)"
   ]
  },
  {
   "cell_type": "code",
   "execution_count": 24,
   "metadata": {},
   "outputs": [
    {
     "data": {
      "text/plain": [
       "'global spam'"
      ]
     },
     "execution_count": 24,
     "metadata": {},
     "output_type": "execute_result"
    }
   ],
   "source": [
    "# spam become available due to do_global function in scope_test, bc of `global` keyword\n",
    "spam "
   ]
  }
 ],
 "metadata": {
  "kernelspec": {
   "display_name": "Python 3",
   "language": "python",
   "name": "python3"
  },
  "language_info": {
   "codemirror_mode": {
    "name": "ipython",
    "version": 3
   },
   "file_extension": ".py",
   "mimetype": "text/x-python",
   "name": "python",
   "nbconvert_exporter": "python",
   "pygments_lexer": "ipython3",
   "version": "3.9.0"
  }
 },
 "nbformat": 4,
 "nbformat_minor": 4
}
