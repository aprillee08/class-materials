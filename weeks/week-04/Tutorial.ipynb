{
 "cells": [
  {
   "cell_type": "markdown",
   "metadata": {},
   "source": [
    "## Week 4 Notes"
   ]
  },
  {
   "cell_type": "markdown",
   "metadata": {},
   "source": [
    "### User Functions\n",
    "\n",
    "You create it to not repeat yourself."
   ]
  },
  {
   "cell_type": "code",
   "execution_count": 1,
   "metadata": {},
   "outputs": [],
   "source": [
    "def greeting():\n",
    "    return 'Hello, You!'"
   ]
  },
  {
   "cell_type": "code",
   "execution_count": 2,
   "metadata": {},
   "outputs": [
    {
     "data": {
      "text/plain": [
       "'Hello, You!'"
      ]
     },
     "execution_count": 2,
     "metadata": {},
     "output_type": "execute_result"
    }
   ],
   "source": [
    "greeting()"
   ]
  },
  {
   "cell_type": "code",
   "execution_count": 3,
   "metadata": {},
   "outputs": [],
   "source": [
    "def greeting_with(name):\n",
    "    return 'Hello,' + ' ' + name + '!'"
   ]
  },
  {
   "cell_type": "code",
   "execution_count": 4,
   "metadata": {},
   "outputs": [
    {
     "data": {
      "text/plain": [
       "'Hello, Metin!'"
      ]
     },
     "execution_count": 4,
     "metadata": {},
     "output_type": "execute_result"
    }
   ],
   "source": [
    "greeting_with('Metin')"
   ]
  },
  {
   "cell_type": "code",
   "execution_count": 5,
   "metadata": {},
   "outputs": [],
   "source": [
    "def greet_to_class(name):\n",
    "    # variables defined in function are only available in function.\n",
    "    cls_name = 'DS-542'\n",
    "    greeting_message = 'Welcome to '\n",
    "    \n",
    "    return greeting_with(name) + ' ' + greeting_message + cls_name + '!'"
   ]
  },
  {
   "cell_type": "code",
   "execution_count": 6,
   "metadata": {},
   "outputs": [
    {
     "data": {
      "text/plain": [
       "'Hello, Metin! Welcome to DS-542!'"
      ]
     },
     "execution_count": 6,
     "metadata": {},
     "output_type": "execute_result"
    }
   ],
   "source": [
    "greet_to_class('Metin')"
   ]
  },
  {
   "cell_type": "code",
   "execution_count": 7,
   "metadata": {},
   "outputs": [],
   "source": [
    "# uncommenting below will raise NameError bc cls_name defined in function's scope\n",
    "# cls_name"
   ]
  },
  {
   "cell_type": "code",
   "execution_count": 8,
   "metadata": {},
   "outputs": [],
   "source": [
    "\n",
    "# round() # shift + tab will bring more information on this function\n",
    "\n",
    "# uncommenting below will also bring more information on function\n",
    "# round?"
   ]
  },
  {
   "cell_type": "code",
   "execution_count": 9,
   "metadata": {},
   "outputs": [
    {
     "data": {
      "text/plain": [
       "20.54"
      ]
     },
     "execution_count": 9,
     "metadata": {},
     "output_type": "execute_result"
    }
   ],
   "source": [
    "round(20.542, 2)\n",
    "# Docstring:\n",
    "# Round a number to a given precision in decimal digits."
   ]
  },
  {
   "cell_type": "code",
   "execution_count": 10,
   "metadata": {},
   "outputs": [
    {
     "data": {
      "text/plain": [
       "'Hello, Murat! Welcome to DS-542!'"
      ]
     },
     "execution_count": 10,
     "metadata": {},
     "output_type": "execute_result"
    }
   ],
   "source": [
    "greet_to_class('Murat')\n",
    "# Docstring: <no docstring>  -- do shift tab in paranthesis"
   ]
  },
  {
   "cell_type": "code",
   "execution_count": 11,
   "metadata": {},
   "outputs": [],
   "source": [
    "def greet_to_class(name):\n",
    "    \"\"\"\n",
    "    Greet the given person to DS-542 class.\n",
    "    \"\"\"\n",
    "    # variables defined in function are only available in function.\n",
    "    cls_name = 'DS-542'\n",
    "    greeting_message = 'Welcome to '\n",
    "    \n",
    "    return greeting_with(name) + ' ' + greeting_message + cls_name + '!'"
   ]
  },
  {
   "cell_type": "code",
   "execution_count": 12,
   "metadata": {},
   "outputs": [
    {
     "data": {
      "text/plain": [
       "'Hello, Metin! Welcome to DS-542!'"
      ]
     },
     "execution_count": 12,
     "metadata": {},
     "output_type": "execute_result"
    }
   ],
   "source": [
    "greet_to_class('Metin')"
   ]
  },
  {
   "cell_type": "code",
   "execution_count": 13,
   "metadata": {},
   "outputs": [
    {
     "data": {
      "text/plain": [
       "(4432671792, function, 'Hello, Metin! Welcome to DS-542!')"
      ]
     },
     "execution_count": 13,
     "metadata": {},
     "output_type": "execute_result"
    }
   ],
   "source": [
    "# remember that python objects have 3 properties, id, value, and type\n",
    "# this means that functions are also objects\n",
    "id(greet_to_class), type(greet_to_class), greet_to_class('Metin' )"
   ]
  },
  {
   "cell_type": "code",
   "execution_count": 14,
   "metadata": {},
   "outputs": [
    {
     "data": {
      "text/plain": [
       "<function str.replace(old, new, count=-1, /)>"
      ]
     },
     "execution_count": 14,
     "metadata": {},
     "output_type": "execute_result"
    }
   ],
   "source": [
    "'Metin'.replace"
   ]
  },
  {
   "cell_type": "code",
   "execution_count": 15,
   "metadata": {},
   "outputs": [
    {
     "data": {
      "text/plain": [
       "'Hello, Metin    ! Welcome to DS-542!'"
      ]
     },
     "execution_count": 15,
     "metadata": {},
     "output_type": "execute_result"
    }
   ],
   "source": [
    "# dirty data causes my greeting message to look bad. What to do?\n",
    "greet_to_class('Metin    ')"
   ]
  },
  {
   "cell_type": "code",
   "execution_count": 16,
   "metadata": {},
   "outputs": [],
   "source": [
    "def greet_to_class(name):\n",
    "    \"\"\"\n",
    "    Greet the given person to DS-542 class. \n",
    "    \n",
    "    This function gets a string as input, and returns a string\n",
    "    as output.\n",
    "    \"\"\"\n",
    "    # variables defined in function are only available in function.\n",
    "    cls_name = 'DS-542'\n",
    "    greeting_message = 'Welcome to '\n",
    "    \n",
    "    \n",
    "    # defining a function within `greet_to_class` function.\n",
    "    # assuming the `name` variable has bad characters, this function will \n",
    "    # replace those.\n",
    "    def cleanup_name(name_string):\n",
    "        '''\n",
    "        Function to clean any given name, if it contains any \n",
    "        of the following characters: ' ', '\\n', '$'.\n",
    "        \n",
    "        This functions gets a string as input, and returns a\n",
    "        string as output..\n",
    "        '''\n",
    "        return name_string.replace(' ', '').replace('\\n', '').replace('$', '')\n",
    "    \n",
    "    # using the defined function above to clean my name variable\n",
    "    name = cleanup_name(name)\n",
    "    \n",
    "    return greeting_with(name) + ' ' + greeting_message + cls_name + '!'"
   ]
  },
  {
   "cell_type": "code",
   "execution_count": 17,
   "metadata": {},
   "outputs": [
    {
     "data": {
      "text/plain": [
       "'Hello, Metin! Welcome to DS-542!'"
      ]
     },
     "execution_count": 17,
     "metadata": {},
     "output_type": "execute_result"
    }
   ],
   "source": [
    "greet_to_class('Metin    ')"
   ]
  },
  {
   "cell_type": "code",
   "execution_count": 18,
   "metadata": {},
   "outputs": [
    {
     "data": {
      "text/plain": [
       "'\\nstr.capitalize()\\nstr.casefold()\\nstr.center(width[, fillchar])\\n'"
      ]
     },
     "execution_count": 18,
     "metadata": {},
     "output_type": "execute_result"
    }
   ],
   "source": [
    "# multiline example with new line chars \n",
    "# not related with functions\n",
    "my_long_string = \"\"\"\n",
    "str.capitalize()\n",
    "str.casefold()\n",
    "str.center(width[, fillchar])\n",
    "\"\"\" # multiline strings will have new line characters (\\n)\n",
    "my_long_string"
   ]
  },
  {
   "cell_type": "code",
   "execution_count": 19,
   "metadata": {},
   "outputs": [],
   "source": [
    "# above when cleanup_name defined, it defined in `greet_to_class` function's scope.\n",
    "# above one (cleanup_name) is not accesible in this notebook, except in `greet_to_class` function.\n",
    "# this one down, now accesible in all notebook, bc it is defined in here.\n",
    "def cleanup_name2(name_string):\n",
    "    '''\n",
    "    Copy of cleanup_name function.\n",
    "    \n",
    "    Function to clean any given name, if it contains any \n",
    "    of the following characters: ' ', '\\n', '$'.\n",
    "\n",
    "    This functions gets a string as input, and returns a\n",
    "    string as output..\n",
    "    '''\n",
    "    return name_string.replace(' ', '').replace('\\n', '').replace('$', '')"
   ]
  },
  {
   "cell_type": "code",
   "execution_count": 20,
   "metadata": {},
   "outputs": [],
   "source": [
    "def greet_to_class_without_inner_function(name):\n",
    "    \"\"\"\n",
    "    Greet the given person to DS-542 class. \n",
    "    \n",
    "    This function gets a string as input, and returns a string\n",
    "    as output.\n",
    "    \"\"\"\n",
    "    # variables defined in function are only available in function.\n",
    "    cls_name = 'DS-542'\n",
    "    greeting_message = 'Welcome to '\n",
    "    \n",
    "    # using the defined function above to clean my name variable\n",
    "    name = cleanup_name2(name)\n",
    "    \n",
    "    return greeting_with(name) + ' ' + greeting_message + cls_name + '!'"
   ]
  },
  {
   "cell_type": "code",
   "execution_count": 21,
   "metadata": {},
   "outputs": [
    {
     "data": {
      "text/plain": [
       "'Hello, Metin! Welcome to DS-542!'"
      ]
     },
     "execution_count": 21,
     "metadata": {},
     "output_type": "execute_result"
    }
   ],
   "source": [
    "greet_to_class_without_inner_function('Metin    ')"
   ]
  },
  {
   "cell_type": "markdown",
   "metadata": {},
   "source": [
    "### Scopes and Namespaces Example"
   ]
  },
  {
   "cell_type": "code",
   "execution_count": 22,
   "metadata": {},
   "outputs": [
    {
     "ename": "NameError",
     "evalue": "name 'spam' is not defined",
     "output_type": "error",
     "traceback": [
      "\u001b[0;31m---------------------------------------------------------------------------\u001b[0m",
      "\u001b[0;31mNameError\u001b[0m                                 Traceback (most recent call last)",
      "\u001b[0;32m<ipython-input-22-e1a6a430b93b>\u001b[0m in \u001b[0;36m<module>\u001b[0;34m\u001b[0m\n\u001b[1;32m      1\u001b[0m \u001b[0;31m# there will be no spam variable defined so far\u001b[0m\u001b[0;34m\u001b[0m\u001b[0;34m\u001b[0m\u001b[0;34m\u001b[0m\u001b[0m\n\u001b[1;32m      2\u001b[0m \u001b[0;31m# therefore this will throw NameError\u001b[0m\u001b[0;34m\u001b[0m\u001b[0;34m\u001b[0m\u001b[0;34m\u001b[0m\u001b[0m\n\u001b[0;32m----> 3\u001b[0;31m \u001b[0mspam\u001b[0m\u001b[0;34m\u001b[0m\u001b[0;34m\u001b[0m\u001b[0m\n\u001b[0m",
      "\u001b[0;31mNameError\u001b[0m: name 'spam' is not defined"
     ]
    }
   ],
   "source": [
    "# there will be no spam variable defined so far\n",
    "# therefore this will throw NameError\n",
    "spam"
   ]
  },
  {
   "cell_type": "code",
   "execution_count": 23,
   "metadata": {},
   "outputs": [
    {
     "name": "stdout",
     "output_type": "stream",
     "text": [
      "1. After local assignment   : test spam\n",
      "2. After nonlocal assignment: nonlocal spam\n",
      "3. After global assignment  : nonlocal spam\n",
      "4. In global scope          : global spam\n"
     ]
    }
   ],
   "source": [
    "# example from \n",
    "# https://github.com/spu-python-203/class-materials/tree/main/weeks/week-04#scopes-and-namespaces-example\n",
    "def scope_test():\n",
    "    \n",
    "    ###\n",
    "    ### First defines 3 functions\n",
    "    ###\n",
    "    def do_local():\n",
    "        spam = \"local spam\"\n",
    "\n",
    "    def do_nonlocal():\n",
    "        nonlocal spam   # will change any other spam variable defined before to this new value\n",
    "        spam = \"nonlocal spam\"\n",
    "\n",
    "    def do_global():\n",
    "        global spam # will make this variable available even outside of of `scope_test` function.\n",
    "        spam = \"global spam\"\n",
    "    \n",
    "    ###\n",
    "    ### Herem uses above 3 functions\n",
    "    ###\n",
    "    spam = \"test spam\"\n",
    "    \n",
    "    do_local()\n",
    "    print(\"1. After local assignment   :\", spam) # the change made in do_local did not effect my `spam` variable\n",
    "    do_nonlocal()\n",
    "    print(\"2. After nonlocal assignment:\", spam)\n",
    "    do_global()\n",
    "    print(\"3. After global assignment  :\", spam)\n",
    "\n",
    "    \n",
    "## using the function defined above in here\n",
    "scope_test()\n",
    "print(\"4. In global scope          :\", spam)"
   ]
  },
  {
   "cell_type": "code",
   "execution_count": 24,
   "metadata": {},
   "outputs": [
    {
     "data": {
      "text/plain": [
       "'global spam'"
      ]
     },
     "execution_count": 24,
     "metadata": {},
     "output_type": "execute_result"
    }
   ],
   "source": [
    "# spam become available due to do_global function in scope_test, bc of `global` keyword\n",
    "spam "
   ]
  },
  {
   "cell_type": "code",
   "execution_count": 1,
   "metadata": {},
   "outputs": [],
   "source": [
    "# function overloading\n",
    "def greeting_with(name):\n",
    "    return 'Hello,' + ' ' + name + '!'\n",
    "\n",
    "def greeting_with(name, lastname):\n",
    "    return 'Hello,' + ' ' + name + '!'"
   ]
  },
  {
   "cell_type": "code",
   "execution_count": 3,
   "metadata": {},
   "outputs": [
    {
     "data": {
      "text/plain": [
       "'Hello, Metin!'"
      ]
     },
     "execution_count": 3,
     "metadata": {},
     "output_type": "execute_result"
    }
   ],
   "source": [
    "# Will raise TypeError if uncommented due to first definition overwritten by second one above.\n",
    "# greeting_with('Metin')\n",
    "\n",
    "greeting_with('Metin', 'Senturk')"
   ]
  },
  {
   "cell_type": "code",
   "execution_count": 11,
   "metadata": {},
   "outputs": [],
   "source": [
    "def greeting_with(name, lastname=None, gender='Female', birth_year=None):\n",
    "    print('variables in the function are as follows: ', name, lastname, gender, birth_year)\n",
    "    return 'Hello,' + ' ' + name + '!'"
   ]
  },
  {
   "cell_type": "code",
   "execution_count": 12,
   "metadata": {},
   "outputs": [
    {
     "name": "stdout",
     "output_type": "stream",
     "text": [
      "variables in the function are as follows:  Metin Senturk Female None\n"
     ]
    },
    {
     "data": {
      "text/plain": [
       "'Hello, Metin!'"
      ]
     },
     "execution_count": 12,
     "metadata": {},
     "output_type": "execute_result"
    }
   ],
   "source": [
    "# Type greeting_with and then do SHIFT + TAB --> brings signature\n",
    "# Signature: greeting_with(name, lastname=None, gender='Female', birth_year=None)\n",
    "greeting_with('Metin', 'Senturk')"
   ]
  },
  {
   "cell_type": "code",
   "execution_count": 45,
   "metadata": {},
   "outputs": [],
   "source": [
    "# using a variable defined outside of the function's scope in the function\n",
    "total = 0\n",
    "\n",
    "def add_to_total1(number):\n",
    "    \"\"\"\n",
    "    to access global total variable, using global keyword.\n",
    "    \"\"\"\n",
    "    global total\n",
    "    total = total + number\n",
    "    \n",
    "    \n",
    "def add_to_total2(number, total):\n",
    "    \"\"\"\n",
    "    to add a total, pass total variable into the function.\n",
    "    \"\"\"\n",
    "    total = total + number\n",
    "    return total\n",
    "\n",
    "def print_total():\n",
    "    \"\"\"\n",
    "    without any assigning, accessing to the variable defined outside of the function.\n",
    "    \"\"\"\n",
    "    print(total)"
   ]
  },
  {
   "cell_type": "code",
   "execution_count": 46,
   "metadata": {},
   "outputs": [
    {
     "name": "stdout",
     "output_type": "stream",
     "text": [
      "0\n"
     ]
    }
   ],
   "source": [
    "print_total()"
   ]
  },
  {
   "cell_type": "code",
   "execution_count": 39,
   "metadata": {},
   "outputs": [
    {
     "data": {
      "text/plain": [
       "18"
      ]
     },
     "execution_count": 39,
     "metadata": {},
     "output_type": "execute_result"
    }
   ],
   "source": [
    "# keeps count on total with global\n",
    "add_to_total1(4)\n",
    "add_to_total1(5)\n",
    "total"
   ]
  },
  {
   "cell_type": "code",
   "execution_count": 40,
   "metadata": {},
   "outputs": [
    {
     "data": {
      "text/plain": [
       "27"
      ]
     },
     "execution_count": 40,
     "metadata": {},
     "output_type": "execute_result"
    }
   ],
   "source": [
    "# keeps count on total with passed argument (9 was added before in above cell, 9 more this cell adds)\n",
    "total = add_to_total2(4, total)\n",
    "total = add_to_total2(5, total)\n",
    "total"
   ]
  },
  {
   "cell_type": "code",
   "execution_count": 60,
   "metadata": {},
   "outputs": [],
   "source": [
    "# bc fruits is a mutable container type, accessing within the function can be done\n",
    "fruits = []\n",
    "\n",
    "def add_fruits(fruit):\n",
    "    fruits.append(fruit)"
   ]
  },
  {
   "cell_type": "code",
   "execution_count": 61,
   "metadata": {},
   "outputs": [
    {
     "data": {
      "text/plain": [
       "['peach']"
      ]
     },
     "execution_count": 61,
     "metadata": {},
     "output_type": "execute_result"
    }
   ],
   "source": [
    "add_fruits('peach')\n",
    "fruits"
   ]
  },
  {
   "cell_type": "markdown",
   "metadata": {},
   "source": [
    "### Generators\n",
    "\n",
    "Generator is a special function that will return a items of a list one by one, instead of defining the list initially."
   ]
  },
  {
   "cell_type": "code",
   "execution_count": 95,
   "metadata": {},
   "outputs": [],
   "source": [
    "# builtin range function returns a generator\n",
    "list_of_numbers1 = range(100)\n",
    "list_of_numbers2 = [0, 1, 2, 3, 4, 5, 6, 7, 8, 9, 10, 11, 12, 13, 14, 15, 16, 17, 18, 19, 20, 21, 22, 23, 24, 25, 26, 27, 28, 29, 30, 31, 32, 33, 34, 35, 36, 37, 38, 39, 40, 41, 42, 43, 44, 45, 46, 47, 48, 49, 50, 51, 52, 53, 54, 55, 56, 57, 58, 59, 60, 61, 62, 63, 64, 65, 66, 67, 68, 69, 70, 71, 72, 73, 74, 75, 76, 77, 78, 79, 80, 81, 82, 83, 84, 85, 86, 87, 88, 89, 90, 91, 92, 93, 94, 95, 96, 97, 98, 99]\n",
    "\n",
    "# todo"
   ]
  },
  {
   "cell_type": "code",
   "execution_count": 91,
   "metadata": {},
   "outputs": [
    {
     "data": {
      "text/plain": [
       "(range(0, 10), [0, 1, 2, 3, 4, 5, 6, 7, 8, 9])"
      ]
     },
     "execution_count": 91,
     "metadata": {},
     "output_type": "execute_result"
    }
   ],
   "source": [
    "# running this will result into values bc it returns an iterator\n",
    "range(10), list(range(10))"
   ]
  },
  {
   "cell_type": "code",
   "execution_count": 92,
   "metadata": {
    "scrolled": true
   },
   "outputs": [
    {
     "data": {
      "text/plain": [
       "[0, 2, 4, 6, 8]"
      ]
     },
     "execution_count": 92,
     "metadata": {},
     "output_type": "execute_result"
    }
   ],
   "source": [
    "# start to end with 2 steps\n",
    "list(range(0, 10, 2))"
   ]
  },
  {
   "cell_type": "code",
   "execution_count": 66,
   "metadata": {},
   "outputs": [
    {
     "data": {
      "text/plain": [
       "[0, 1, 2, 3, 4]"
      ]
     },
     "execution_count": 66,
     "metadata": {},
     "output_type": "execute_result"
    }
   ],
   "source": [
    "# convert range to list\n",
    "list(range(5))"
   ]
  },
  {
   "cell_type": "code",
   "execution_count": 67,
   "metadata": {},
   "outputs": [
    {
     "data": {
      "text/plain": [
       "(3, -1, -1)"
      ]
     },
     "execution_count": 67,
     "metadata": {},
     "output_type": "execute_result"
    }
   ],
   "source": [
    "# range(start, stop[, step])\n",
    "start = len('golf') - 1\n",
    "stop = -1\n",
    "step = -1\n",
    "start, stop, step"
   ]
  },
  {
   "cell_type": "code",
   "execution_count": 72,
   "metadata": {},
   "outputs": [
    {
     "data": {
      "text/plain": [
       "([3, 2, 1, 0], [3, 2, 1, 0])"
      ]
     },
     "execution_count": 72,
     "metadata": {},
     "output_type": "execute_result"
    }
   ],
   "source": [
    "list(range(start, stop, step)), list(range(3, -1, -1))"
   ]
  },
  {
   "cell_type": "code",
   "execution_count": 124,
   "metadata": {},
   "outputs": [],
   "source": [
    "# we can also make a generator function by simply just using yield keyword within a function\n",
    "def reverse(data):\n",
    "    start = len(data) - 1\n",
    "    stop = -1\n",
    "    step = -1\n",
    "    for index in range(start, stop, step):\n",
    "        yield data[index] \n",
    "        \n",
    "# what is the use of yield in here?\n",
    "# yield stops the function, until the function is called again"
   ]
  },
  {
   "cell_type": "code",
   "execution_count": 125,
   "metadata": {
    "scrolled": true
   },
   "outputs": [
    {
     "data": {
      "text/plain": [
       "<generator object reverse at 0x109588190>"
      ]
     },
     "execution_count": 125,
     "metadata": {},
     "output_type": "execute_result"
    }
   ],
   "source": [
    "# we created an instance of this generator\n",
    "reverse_generator = reverse('golf')\n",
    "reverse_generator"
   ]
  },
  {
   "cell_type": "code",
   "execution_count": 126,
   "metadata": {},
   "outputs": [
    {
     "data": {
      "text/plain": [
       "(<function next>, <generator object reverse at 0x109588190>)"
      ]
     },
     "execution_count": 126,
     "metadata": {},
     "output_type": "execute_result"
    }
   ],
   "source": [
    "# builtin function that gets each item of an iterator (list, sets, generators)\n",
    "# and returns one by one\n",
    "# reverse_generator in here is our iterator example\n",
    "next, reverse_generator"
   ]
  },
  {
   "cell_type": "code",
   "execution_count": 127,
   "metadata": {},
   "outputs": [
    {
     "data": {
      "text/plain": [
       "'f'"
      ]
     },
     "execution_count": 127,
     "metadata": {},
     "output_type": "execute_result"
    }
   ],
   "source": [
    "# always returns the first value\n",
    "next(reverse('golf')) # bc reverse('golf') creates a new instance of this generator"
   ]
  },
  {
   "cell_type": "code",
   "execution_count": 128,
   "metadata": {},
   "outputs": [
    {
     "data": {
      "text/plain": [
       "'f'"
      ]
     },
     "execution_count": 128,
     "metadata": {},
     "output_type": "execute_result"
    }
   ],
   "source": [
    "next(reverse_generator) # this will return next values bc it is created already consumed."
   ]
  },
  {
   "cell_type": "code",
   "execution_count": 130,
   "metadata": {},
   "outputs": [
    {
     "name": "stdout",
     "output_type": "stream",
     "text": [
      "apple\n",
      "peach\n",
      "pineapple\n"
     ]
    }
   ],
   "source": [
    "items = ['apple', 'peach', 'pineapple']\n",
    "\n",
    "for item in items:\n",
    "    print(item)"
   ]
  },
  {
   "cell_type": "code",
   "execution_count": 155,
   "metadata": {},
   "outputs": [],
   "source": [
    "def get_fruit1():\n",
    "    items = ['apple', 'peach', 'pineapple']\n",
    "\n",
    "    for item in items:\n",
    "        return item\n",
    "        \n",
    "def get_fruit2():\n",
    "    items = ['apple', 'peach', 'pineapple']\n",
    "\n",
    "    for item in items:\n",
    "        print('Current item: ', item, 'Items list: ', items)\n",
    "        yield item\n",
    "        print('Going next...')"
   ]
  },
  {
   "cell_type": "code",
   "execution_count": 156,
   "metadata": {},
   "outputs": [
    {
     "data": {
      "text/plain": [
       "'apple'"
      ]
     },
     "execution_count": 156,
     "metadata": {},
     "output_type": "execute_result"
    }
   ],
   "source": [
    "get_fruit1()"
   ]
  },
  {
   "cell_type": "code",
   "execution_count": 169,
   "metadata": {},
   "outputs": [
    {
     "data": {
      "text/plain": [
       "'apple'"
      ]
     },
     "execution_count": 169,
     "metadata": {},
     "output_type": "execute_result"
    }
   ],
   "source": [
    "fruit_generator = get_fruit1()\n",
    "fruit_generator"
   ]
  },
  {
   "cell_type": "code",
   "execution_count": 173,
   "metadata": {},
   "outputs": [
    {
     "data": {
      "text/plain": [
       "<generator object get_fruit2 at 0x109588820>"
      ]
     },
     "execution_count": 173,
     "metadata": {},
     "output_type": "execute_result"
    }
   ],
   "source": [
    "fruit_generator = get_fruit2()\n",
    "fruit_generator"
   ]
  },
  {
   "cell_type": "code",
   "execution_count": 161,
   "metadata": {},
   "outputs": [
    {
     "name": "stdout",
     "output_type": "stream",
     "text": [
      "Going next...\n"
     ]
    },
    {
     "ename": "StopIteration",
     "evalue": "",
     "output_type": "error",
     "traceback": [
      "\u001b[0;31m---------------------------------------------------------------------------\u001b[0m",
      "\u001b[0;31mStopIteration\u001b[0m                             Traceback (most recent call last)",
      "\u001b[0;32m<ipython-input-161-9f8962a9d719>\u001b[0m in \u001b[0;36m<module>\u001b[0;34m\u001b[0m\n\u001b[0;32m----> 1\u001b[0;31m \u001b[0mnext\u001b[0m\u001b[0;34m(\u001b[0m\u001b[0mfruit_generator\u001b[0m\u001b[0;34m)\u001b[0m\u001b[0;34m\u001b[0m\u001b[0;34m\u001b[0m\u001b[0m\n\u001b[0m",
      "\u001b[0;31mStopIteration\u001b[0m: "
     ]
    }
   ],
   "source": [
    "# calling this again and again will consume each item on the list one by one, \n",
    "# and if no item found it will throw StopIteration error\n",
    "next(fruit_generator)"
   ]
  },
  {
   "cell_type": "code",
   "execution_count": 179,
   "metadata": {},
   "outputs": [],
   "source": [
    "# this one will consume the generator one by one, and will not throw any error\n",
    "# bc when no items left in the fruit generator, it will exit the for loop.\n",
    "\n",
    "# second, runing this second time will not print anything, bc you already consumed\n",
    "# everything within this generator.\n",
    "for fruit in fruit_generator:\n",
    "    print(fruit)"
   ]
  },
  {
   "cell_type": "code",
   "execution_count": null,
   "metadata": {},
   "outputs": [],
   "source": []
  }
 ],
 "metadata": {
  "kernelspec": {
   "display_name": "Python 3",
   "language": "python",
   "name": "python3"
  },
  "language_info": {
   "codemirror_mode": {
    "name": "ipython",
    "version": 3
   },
   "file_extension": ".py",
   "mimetype": "text/x-python",
   "name": "python",
   "nbconvert_exporter": "python",
   "pygments_lexer": "ipython3",
   "version": "3.9.0"
  }
 },
 "nbformat": 4,
 "nbformat_minor": 4
}
