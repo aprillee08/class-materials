{
 "cells": [
  {
   "cell_type": "markdown",
   "metadata": {},
   "source": [
    "## Classes"
   ]
  },
  {
   "cell_type": "markdown",
   "metadata": {},
   "source": [
    "### Basic Class Definition"
   ]
  },
  {
   "cell_type": "code",
   "execution_count": 5,
   "metadata": {},
   "outputs": [],
   "source": [
    "class Humans:\n",
    "    pass"
   ]
  },
  {
   "cell_type": "code",
   "execution_count": 6,
   "metadata": {},
   "outputs": [
    {
     "data": {
      "text/plain": [
       "__main__.Humans"
      ]
     },
     "execution_count": 6,
     "metadata": {},
     "output_type": "execute_result"
    }
   ],
   "source": [
    "Humans"
   ]
  },
  {
   "cell_type": "code",
   "execution_count": 7,
   "metadata": {},
   "outputs": [
    {
     "name": "stdout",
     "output_type": "stream",
     "text": [
      "Help on class Humans in module __main__:\n",
      "\n",
      "class Humans(builtins.object)\n",
      " |  Data descriptors defined here:\n",
      " |  \n",
      " |  __dict__\n",
      " |      dictionary for instance variables (if defined)\n",
      " |  \n",
      " |  __weakref__\n",
      " |      list of weak references to the object (if defined)\n",
      "\n"
     ]
    }
   ],
   "source": [
    "help(Humans)"
   ]
  },
  {
   "cell_type": "code",
   "execution_count": 10,
   "metadata": {},
   "outputs": [],
   "source": [
    "class Humans:\n",
    "    \"\"\"\n",
    "    Representation of a human.\n",
    "    \n",
    "    This is a docstring for this class. This is exactly same \n",
    "    as writing docstrings to functions!\n",
    "    \"\"\"\n",
    "    pass"
   ]
  },
  {
   "cell_type": "code",
   "execution_count": 11,
   "metadata": {},
   "outputs": [
    {
     "name": "stdout",
     "output_type": "stream",
     "text": [
      "Help on class Humans in module __main__:\n",
      "\n",
      "class Humans(builtins.object)\n",
      " |  Representation of a human.\n",
      " |  \n",
      " |  This is a docstring for this class. This is exactly same \n",
      " |  as writing docstrings to functions!\n",
      " |  \n",
      " |  Data descriptors defined here:\n",
      " |  \n",
      " |  __dict__\n",
      " |      dictionary for instance variables (if defined)\n",
      " |  \n",
      " |  __weakref__\n",
      " |      list of weak references to the object (if defined)\n",
      "\n"
     ]
    }
   ],
   "source": [
    "help(Humans)"
   ]
  },
  {
   "cell_type": "markdown",
   "metadata": {},
   "source": [
    "### Adding Attributes and Functions"
   ]
  },
  {
   "cell_type": "code",
   "execution_count": 46,
   "metadata": {},
   "outputs": [],
   "source": [
    "class Humans:\n",
    "    \"\"\"\n",
    "    Representation of a human.\n",
    "    \n",
    "    This is a docstring for this class. This is exactly same \n",
    "    as writing docstrings to functions!\n",
    "    \n",
    "    The variable `self` used in below functions is to represent \n",
    "    the instance of this class. The word `self` is itself meaningless,\n",
    "    the point is to have a variable the represents the instance\n",
    "    of the class.\n",
    "    \"\"\"\n",
    "    # this is the attibute under Humans class\n",
    "    identity = 1\n",
    "    \n",
    "    # this is the function available under Humans class\n",
    "    def get_name(self):\n",
    "        \"\"\"\n",
    "        Get the name of the person.\n",
    "        \"\"\"\n",
    "        return \"Metin Senturk\"\n",
    "    \n",
    "    # this is the function available under Humans class\n",
    "    def get_identity_and_name(self):\n",
    "        \"\"\"\n",
    "        Get the name of the person.\n",
    "        \"\"\"\n",
    "        return \"{} - {}\".format(self.identity, \"Metin Senturk\")"
   ]
  },
  {
   "cell_type": "code",
   "execution_count": 47,
   "metadata": {},
   "outputs": [
    {
     "name": "stdout",
     "output_type": "stream",
     "text": [
      "Help on function get_name in module __main__:\n",
      "\n",
      "get_name(self)\n",
      "    Get the name of the person.\n",
      "\n"
     ]
    }
   ],
   "source": [
    "# get information only on function under Humans class\n",
    "# help(get_name) # uncommenting this will fail, bc it is only defined in Humans class.\n",
    "help(Humans.get_name)"
   ]
  },
  {
   "cell_type": "code",
   "execution_count": 48,
   "metadata": {},
   "outputs": [
    {
     "name": "stdout",
     "output_type": "stream",
     "text": [
      "Help on class Humans in module __main__:\n",
      "\n",
      "class Humans(builtins.object)\n",
      " |  Representation of a human.\n",
      " |  \n",
      " |  This is a docstring for this class. This is exactly same \n",
      " |  as writing docstrings to functions!\n",
      " |  \n",
      " |  Methods defined here:\n",
      " |  \n",
      " |  get_identity_and_name(self)\n",
      " |      Get the name of the person.\n",
      " |  \n",
      " |  get_name(self)\n",
      " |      Get the name of the person.\n",
      " |  \n",
      " |  ----------------------------------------------------------------------\n",
      " |  Data descriptors defined here:\n",
      " |  \n",
      " |  __dict__\n",
      " |      dictionary for instance variables (if defined)\n",
      " |  \n",
      " |  __weakref__\n",
      " |      list of weak references to the object (if defined)\n",
      " |  \n",
      " |  ----------------------------------------------------------------------\n",
      " |  Data and other attributes defined here:\n",
      " |  \n",
      " |  identity = 1\n",
      "\n"
     ]
    }
   ],
   "source": [
    "# get information on Humans class\n",
    "help(Humans)"
   ]
  },
  {
   "cell_type": "code",
   "execution_count": 49,
   "metadata": {},
   "outputs": [],
   "source": [
    "# instantiating a class\n",
    "human1 = Humans()"
   ]
  },
  {
   "cell_type": "code",
   "execution_count": 50,
   "metadata": {},
   "outputs": [
    {
     "data": {
      "text/plain": [
       "(__main__.Humans, <__main__.Humans at 0x115ce96a0>)"
      ]
     },
     "execution_count": 50,
     "metadata": {},
     "output_type": "execute_result"
    }
   ],
   "source": [
    "# the first one is the class, second one is an instance of this class.\n",
    "Humans, human1"
   ]
  },
  {
   "cell_type": "code",
   "execution_count": 51,
   "metadata": {},
   "outputs": [
    {
     "data": {
      "text/plain": [
       "(1, 'Metin Senturk', '1 - Metin Senturk')"
      ]
     },
     "execution_count": 51,
     "metadata": {},
     "output_type": "execute_result"
    }
   ],
   "source": [
    "human1.identity, human1.get_name(), human1.get_identity_and_name()"
   ]
  },
  {
   "cell_type": "markdown",
   "metadata": {},
   "source": [
    "### Changing Instantiation Attrubutes with `__init__`"
   ]
  },
  {
   "cell_type": "code",
   "execution_count": 53,
   "metadata": {},
   "outputs": [],
   "source": [
    "human1.__init__??"
   ]
  },
  {
   "cell_type": "code",
   "execution_count": 93,
   "metadata": {},
   "outputs": [],
   "source": [
    "# We create a helper function to get incremental IDs \n",
    "# for each person.\n",
    "\n",
    "def get_id_generator():\n",
    "    \"\"\"\n",
    "    This is the definition of our ID\n",
    "    generator.\n",
    "    \"\"\"\n",
    "    n = 1\n",
    "    while True:\n",
    "        yield n\n",
    "        n += 1"
   ]
  },
  {
   "cell_type": "code",
   "execution_count": 94,
   "metadata": {},
   "outputs": [],
   "source": [
    "# bc our helper function is a generator, we need to create\n",
    "# a generator object from the function.\n",
    "\n",
    "id_generator = get_id_generator()"
   ]
  },
  {
   "cell_type": "code",
   "execution_count": 95,
   "metadata": {},
   "outputs": [
    {
     "data": {
      "text/plain": [
       "1"
      ]
     },
     "execution_count": 95,
     "metadata": {},
     "output_type": "execute_result"
    }
   ],
   "source": [
    "# getting first item from our generator\n",
    "\n",
    "next(id_generator)"
   ]
  },
  {
   "cell_type": "code",
   "execution_count": 96,
   "metadata": {},
   "outputs": [],
   "source": [
    "class Humans:\n",
    "    \"\"\"\n",
    "    Representation of a human.\n",
    "    \n",
    "    This is a docstring for this class. This is exactly same \n",
    "    as writing docstrings to functions!\n",
    "    \"\"\"\n",
    "    # this is the attibute under Humans class\n",
    "    identity = 1\n",
    "    \n",
    "    def __init__(self, name):\n",
    "        \"\"\"\n",
    "        Instantiation of a human class.\n",
    "        \n",
    "        This function is the special function to get input\n",
    "        argument for any class.\n",
    "        \"\"\"\n",
    "        # add the variable name to self so that other functions in\n",
    "        # Humans class can access it.\n",
    "        self.full_name = name\n",
    "        self.identity = next(id_generator)\n",
    "    \n",
    "    # this is the function available under Humans class\n",
    "    def get_name(self):\n",
    "        \"\"\"\n",
    "        Get the name of the person.\n",
    "        \"\"\"\n",
    "        return self.full_name\n",
    "    \n",
    "    # this is the function available under Humans class\n",
    "    def get_identity_and_name(self):\n",
    "        \"\"\"\n",
    "        Get the name of the person.\n",
    "        \"\"\"\n",
    "        return \"{} - {}\".format(self.identity, self.full_name)"
   ]
  },
  {
   "cell_type": "code",
   "execution_count": 97,
   "metadata": {},
   "outputs": [
    {
     "data": {
      "text/plain": [
       "'2 - Harish Balan'"
      ]
     },
     "execution_count": 97,
     "metadata": {},
     "output_type": "execute_result"
    }
   ],
   "source": [
    "human2 = Humans(name=\"Harish Balan\")\n",
    "human2.get_identity_and_name()"
   ]
  },
  {
   "cell_type": "code",
   "execution_count": 98,
   "metadata": {},
   "outputs": [
    {
     "data": {
      "text/plain": [
       "'3 - Reda Mastouri'"
      ]
     },
     "execution_count": 98,
     "metadata": {},
     "output_type": "execute_result"
    }
   ],
   "source": [
    "human3 = Humans(name=\"Reda Mastouri\")\n",
    "human3.get_identity_and_name()"
   ]
  },
  {
   "cell_type": "code",
   "execution_count": 99,
   "metadata": {},
   "outputs": [
    {
     "data": {
      "text/plain": [
       "(2, 3)"
      ]
     },
     "execution_count": 99,
     "metadata": {},
     "output_type": "execute_result"
    }
   ],
   "source": [
    "human2.identity, human3.identity"
   ]
  },
  {
   "cell_type": "code",
   "execution_count": 100,
   "metadata": {},
   "outputs": [
    {
     "data": {
      "text/plain": [
       "('Harish Balan', 'Reda Mastouri')"
      ]
     },
     "execution_count": 100,
     "metadata": {},
     "output_type": "execute_result"
    }
   ],
   "source": [
    "human2.full_name, human3.get_name()"
   ]
  },
  {
   "cell_type": "code",
   "execution_count": 101,
   "metadata": {},
   "outputs": [
    {
     "data": {
      "text/plain": [
       "('2 - Harish Balan', '3 - Reda Mastouri')"
      ]
     },
     "execution_count": 101,
     "metadata": {},
     "output_type": "execute_result"
    }
   ],
   "source": [
    "human2.get_identity_and_name(), human3.get_identity_and_name()"
   ]
  },
  {
   "cell_type": "markdown",
   "metadata": {},
   "source": [
    "### Instance Varaibles and Attributes"
   ]
  },
  {
   "cell_type": "markdown",
   "metadata": {},
   "source": [
    "#### Example 1"
   ]
  },
  {
   "cell_type": "code",
   "execution_count": 103,
   "metadata": {},
   "outputs": [
    {
     "data": {
      "text/plain": [
       "(5, 'Wenbin Ma')"
      ]
     },
     "execution_count": 103,
     "metadata": {},
     "output_type": "execute_result"
    }
   ],
   "source": [
    "# this will instantiate a new instance of Humans class\n",
    "# therefore will have a new identity and a name\n",
    "\n",
    "human4 = Humans('Wenbin Ma')\n",
    "\n",
    "human4.identity, human4.full_name"
   ]
  },
  {
   "cell_type": "code",
   "execution_count": 106,
   "metadata": {},
   "outputs": [
    {
     "ename": "AttributeError",
     "evalue": "type object 'Humans' has no attribute 'full_name'",
     "output_type": "error",
     "traceback": [
      "\u001b[0;31m---------------------------------------------------------------------------\u001b[0m",
      "\u001b[0;31mAttributeError\u001b[0m                            Traceback (most recent call last)",
      "\u001b[0;32m<ipython-input-106-7c9138599bc4>\u001b[0m in \u001b[0;36m<module>\u001b[0;34m\u001b[0m\n\u001b[1;32m      4\u001b[0m \u001b[0;31m# is defined yet.\u001b[0m\u001b[0;34m\u001b[0m\u001b[0;34m\u001b[0m\u001b[0;34m\u001b[0m\u001b[0m\n\u001b[1;32m      5\u001b[0m \u001b[0;34m\u001b[0m\u001b[0m\n\u001b[0;32m----> 6\u001b[0;31m \u001b[0mHumans\u001b[0m\u001b[0;34m.\u001b[0m\u001b[0mfull_name\u001b[0m\u001b[0;34m\u001b[0m\u001b[0;34m\u001b[0m\u001b[0m\n\u001b[0m",
      "\u001b[0;31mAttributeError\u001b[0m: type object 'Humans' has no attribute 'full_name'"
     ]
    }
   ],
   "source": [
    "# if Humans class used without instantiation, we \n",
    "# won't have access to instance variables. That is,\n",
    "# this cell will throw AttributeError bc no `full_name`\n",
    "# is defined yet.\n",
    "\n",
    "Humans.full_name "
   ]
  },
  {
   "cell_type": "code",
   "execution_count": 108,
   "metadata": {},
   "outputs": [
    {
     "data": {
      "text/plain": [
       "1"
      ]
     },
     "execution_count": 108,
     "metadata": {},
     "output_type": "execute_result"
    }
   ],
   "source": [
    "# Here, we don't use create an instance, therefore\n",
    "# all humans has an identity of 1.\n",
    "\n",
    "Humans.identity"
   ]
  },
  {
   "cell_type": "markdown",
   "metadata": {},
   "source": [
    "#### Example 2"
   ]
  },
  {
   "cell_type": "code",
   "execution_count": 109,
   "metadata": {},
   "outputs": [],
   "source": [
    "class Dog:\n",
    "    # class variable shared by all instances\n",
    "    # every dog has kind\n",
    "    kind = 'canine'         \n",
    "\n",
    "    def __init__(self, name):\n",
    "        # instance variable unique to each instance\n",
    "        # unless you specifically targeting a dog, \n",
    "        # you don't have a name \n",
    "        self.name = name"
   ]
  },
  {
   "cell_type": "code",
   "execution_count": 111,
   "metadata": {},
   "outputs": [],
   "source": [
    "# creating instance of Dog\n",
    "d = Dog('Fido')\n",
    "e = Dog('Buddy')\n",
    "\n",
    "# another way of writing above\n",
    "d, e = Dog('Fido'), Dog('Buddy')"
   ]
  },
  {
   "cell_type": "code",
   "execution_count": 113,
   "metadata": {},
   "outputs": [
    {
     "data": {
      "text/plain": [
       "('canine', 'canine', 'Fido', 'Buddy')"
      ]
     },
     "execution_count": 113,
     "metadata": {},
     "output_type": "execute_result"
    }
   ],
   "source": [
    "d.kind, e.kind, d.name, e.name"
   ]
  },
  {
   "cell_type": "code",
   "execution_count": 117,
   "metadata": {},
   "outputs": [],
   "source": [
    "# Adding a trick to the Dog for the instance\n",
    "# bc, each dog has different tricks\n",
    "\n",
    "class Dog:\n",
    "    kind = 'canine'  \n",
    "    def __init__(self, name):\n",
    "        self.name = name\n",
    "        self.tricks = []\n",
    "    \n",
    "    def add_trick(self, trick):\n",
    "        self.tricks.append(trick)"
   ]
  },
  {
   "cell_type": "code",
   "execution_count": 116,
   "metadata": {},
   "outputs": [
    {
     "data": {
      "text/plain": [
       "(['roll over'], ['play dead'])"
      ]
     },
     "execution_count": 116,
     "metadata": {},
     "output_type": "execute_result"
    }
   ],
   "source": [
    "d = Dog('Fido')\n",
    "e = Dog('Buddy')\n",
    "d.add_trick('roll over')\n",
    "e.add_trick('play dead')\n",
    "d.tricks, e.tricks"
   ]
  },
  {
   "cell_type": "code",
   "execution_count": 121,
   "metadata": {},
   "outputs": [],
   "source": [
    "# self here represents the instance\n",
    "class Dog2:\n",
    "    kind = 'canine'  \n",
    "    def __init__(self, name):\n",
    "        print(self)\n",
    "        self.name = name"
   ]
  },
  {
   "cell_type": "code",
   "execution_count": 125,
   "metadata": {},
   "outputs": [
    {
     "name": "stdout",
     "output_type": "stream",
     "text": [
      "<__main__.Dog2 object at 0x11602a5b0>\n"
     ]
    },
    {
     "data": {
      "text/plain": [
       "<__main__.Dog2 at 0x11602a5b0>"
      ]
     },
     "execution_count": 125,
     "metadata": {},
     "output_type": "execute_result"
    }
   ],
   "source": [
    "# the instance varaible f and print will be the same\n",
    "f = Dog2('Buddy')\n",
    "f"
   ]
  },
  {
   "cell_type": "code",
   "execution_count": 126,
   "metadata": {},
   "outputs": [],
   "source": [
    "class Employee:\n",
    "    pass\n",
    "\n",
    "john = Employee()  # Create an empty employee record\n",
    "\n",
    "# Fill the fields of the record\n",
    "john.name = 'John Doe'\n",
    "john.dept = 'computer lab'\n",
    "john.salary = 1000"
   ]
  },
  {
   "cell_type": "code",
   "execution_count": 128,
   "metadata": {},
   "outputs": [
    {
     "name": "stdout",
     "output_type": "stream",
     "text": [
      "John Doe computer lab 1000\n"
     ]
    }
   ],
   "source": [
    "print(john.name, john.dept, john.salary)"
   ]
  }
 ],
 "metadata": {
  "kernelspec": {
   "display_name": "Python 3",
   "language": "python",
   "name": "python3"
  },
  "language_info": {
   "codemirror_mode": {
    "name": "ipython",
    "version": 3
   },
   "file_extension": ".py",
   "mimetype": "text/x-python",
   "name": "python",
   "nbconvert_exporter": "python",
   "pygments_lexer": "ipython3",
   "version": "3.9.0"
  }
 },
 "nbformat": 4,
 "nbformat_minor": 4
}
